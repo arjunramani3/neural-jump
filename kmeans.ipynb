{
 "cells": [
  {
   "cell_type": "code",
   "execution_count": 1,
   "id": "c60e39a8",
   "metadata": {},
   "outputs": [
    {
     "name": "stderr",
     "output_type": "stream",
     "text": [
      "[nltk_data] Downloading package stopwords to\n",
      "[nltk_data]     /Users/ankushswarnakar/nltk_data...\n",
      "[nltk_data]   Package stopwords is already up-to-date!\n"
     ]
    }
   ],
   "source": [
    "from import_art_stop_allyrs_v2 import import_article\n",
    "import pandas as pd\n",
    "import math\n",
    "import os\n",
    "import nltk\n",
    "nltk.download('stopwords')\n",
    "from nltk.corpus import stopwords\n",
    "import numpy as np"
   ]
  },
  {
   "cell_type": "code",
   "execution_count": 2,
   "id": "2294e732",
   "metadata": {},
   "outputs": [],
   "source": [
    "def load_eng_words():\n",
    "    \"\"\"load_eng_words function\n",
    "        @returns valid_words (set of strings): the set of string in the english words file \"\"\"\n",
    "\n",
    "    with open('/Users/ankushswarnakar/Library/Mobile Documents/com~apple~CloudDocs/Documents/Stanford/2020-2021/neural-jump/words_alpha.txt') as word_file:\n",
    "        valid_words = set(word_file.read().split())\n",
    "    return valid_words"
   ]
  },
  {
   "cell_type": "code",
   "execution_count": 3,
   "id": "bd0f50c1",
   "metadata": {},
   "outputs": [],
   "source": [
    "def load_labels():\n",
    "    \"\"\"load_labels function\n",
    "        @returns labels (dataframe of slug, label) tuples\"\"\"\n",
    "\n",
    "    labels = pd.read_csv('/Users/ankushswarnakar/Library/Mobile Documents/com~apple~CloudDocs/Documents/Stanford/2020-2021/neural-jump/jumps_by_day.csv')\n",
    "    labs = ['Corporate', 'Govspend', 'Macro', 'Monetary', 'Sovmil']\n",
    "    lab_map = {name : i for i, name in enumerate(labs)} #Create dicitonary mapping labs to indices\n",
    "    #print(lab_map)\n",
    "    cols_to_keep = ['Date', 'Return'] + labs #specification in paper\n",
    "    labels = labels[cols_to_keep]\n",
    "    labels['Date'] = pd.to_datetime(labels['Date'], errors='coerce', infer_datetime_format=True)\n",
    "    labels['Sum'] = labels[labs].sum(axis=1)\n",
    "    labels = labels[labels['Sum'] > 0] #filters out all rows that do not have a label in labs\n",
    "    labels['Max'] = labels[labs].idxmax(axis=1) #Max column has label to keep\n",
    "    labels['Max'] = labels['Max'].map(lab_map)\n",
    "    return labels\n"
   ]
  },
  {
   "cell_type": "code",
   "execution_count": 4,
   "id": "b6376a3e",
   "metadata": {},
   "outputs": [],
   "source": [
    "def load_articles(narts=5, nwords = 100, min_word_length = 3, filter_stop_words = True):\n",
    "    \"\"\"load_articles function\n",
    "    @param narts (int): the number of articles to store in the labeled dataframe\n",
    "    @param nwords (int): the number of words to keep in each article\n",
    "    @param min_word_length (int): the minimum number of characters in a word (all words with length < min_word_length will be filtered)\n",
    "    @param filter_stop_words (boolean): a flag indicating whether to filter stop_words \n",
    "    @return labeled_articles (DataFrame): a dataframe with aritcle clippings and associated labels\"\"\"\n",
    "    #print('narts = ' + str(narts))\n",
    "    english_words = load_eng_words()\n",
    "    stop_words = set(stopwords.words('english'))\n",
    "    labels = load_labels()\n",
    "    print('len(labels = ' + str(len(labels)))\n",
    "    #print(labels.head())\n",
    "    articles = pd.DataFrame(np.zeros((narts, 2)), columns = ['Date', 'Words'])\n",
    "    for i, art in enumerate(os.listdir('/Users/ankushswarnakar/Library/Mobile Documents/com~apple~CloudDocs/Documents/Stanford/2020-2021/neural-jump/WSJ_txt')):\n",
    "        #print(art)\n",
    "        if i > narts: break\n",
    "        rawart=import_article(art, english_words, stop_words, min_word_length, filter_stop_words)\n",
    "        #print(len(rawart.split(\" \")))\n",
    "        #print(\"RAW ARTICLE: \" + str(rawart))\n",
    "        rawart=rawart.split(\" \")\n",
    "        #if len(rawart) < nwords: break\n",
    "        firstn = rawart[:nwords]\n",
    "        firstn = \" \".join(firstn) #if our input is a text with spaces\n",
    "        #print(firstn)\n",
    "        slug = art.split('.')[0]\n",
    "        articles.loc[i] = slug, firstn\n",
    "    #print(labels.head())\n",
    "    articles['Date'] = articles['Date'].str.replace('_', '/')\n",
    "    #print(articles['Date'])\n",
    "    articles['Date'] = pd.to_datetime(articles['Date'], errors='coerce', format='%Y/%m/%d') \n",
    "    print('len(articles) = ' + str(len(articles)))\n",
    "    labeled_articles = labels.merge(articles, left_on = 'Date', right_on = 'Date')\n",
    "    print('len(labeled_articles) = ' + str(len(labeled_articles)))\n",
    "    return labeled_articles"
   ]
  },
  {
   "cell_type": "code",
   "execution_count": 5,
   "id": "367a84e7",
   "metadata": {},
   "outputs": [
    {
     "name": "stdout",
     "output_type": "stream",
     "text": [
      "len(labels = 838\n",
      "len(articles) = 1104\n",
      "len(labeled_articles) = 829\n"
     ]
    }
   ],
   "source": [
    "narts = 1104\n",
    "nwords = 100\n",
    "min_word_length = 3\n",
    "filter_stop_words = True\n",
    "labeled_articles = load_articles(narts, nwords, min_word_length, filter_stop_words)"
   ]
  },
  {
   "cell_type": "code",
   "execution_count": 6,
   "id": "717302e4",
   "metadata": {},
   "outputs": [
    {
     "name": "stdout",
     "output_type": "stream",
     "text": [
      "          Date  Return  Corporate  Govspend     Macro  Monetary  Sovmil  \\\n",
      "0   2018-03-22 -0.0252      0.000       0.0  0.083333  0.000000   0.000   \n",
      "1   2018-02-08 -0.0375      0.000       0.0  0.583333  0.333333   0.000   \n",
      "2   2018-02-05 -0.0410      0.000       0.0  0.083333  0.083333   0.000   \n",
      "3   2016-06-24 -0.0357      0.000       0.0  1.000000  0.000000   0.000   \n",
      "4   2016-01-13 -0.0251      0.000       0.0  0.750000  0.000000   0.000   \n",
      "..         ...     ...        ...       ...       ...       ...     ...   \n",
      "824 1900-04-16 -0.0443      1.000       0.0  0.000000  0.000000   0.000   \n",
      "825 1900-03-12  0.0264      0.375       0.0  0.000000  0.000000   0.125   \n",
      "826 1900-03-02 -0.0258      0.000       0.0  0.125000  0.000000   0.000   \n",
      "827 1900-01-12  0.0262      0.000       0.0  0.000000  0.000000   1.000   \n",
      "828 1900-01-02  0.0310      0.125       0.0  0.000000  0.000000   0.875   \n",
      "\n",
      "          Sum  Max                                              Words  \n",
      "0    0.083333    2  trade war fears along broader concerns technol...  \n",
      "1    0.916666    2  industrial average entered correction territor...  \n",
      "2    0.166666    2  corrections amplifications earlier version cha...  \n",
      "3    1.000000    2  london deal making bankers lawyers pointing ea...  \n",
      "4    0.750000    2  new year stock market rout deepened dragging i...  \n",
      "..        ...  ...                                                ...  \n",
      "824  1.000000    0  holiday london slock exchange quotations news ...  \n",
      "825  0.500000    0  stocks london wisconsin central omaha ptt mid ...  \n",
      "826  0.125000    2  wis break steer stocks mas constant stream sma...  \n",
      "827  1.000000    4  attempt force sugar traders large bull interes...  \n",
      "828  1.000000    4  favorable reports south africa stocks opened s...  \n",
      "\n",
      "[829 rows x 10 columns]\n"
     ]
    }
   ],
   "source": [
    "print(labeled_articles)"
   ]
  },
  {
   "cell_type": "code",
   "execution_count": 7,
   "id": "b9a371d1",
   "metadata": {},
   "outputs": [
    {
     "name": "stdout",
     "output_type": "stream",
     "text": [
      "Requirement already satisfied: sentence-transformers in /Users/ankushswarnakar/opt/anaconda3/envs/cs224u-final/lib/python3.8/site-packages (1.2.0)\n",
      "Requirement already satisfied: scikit-learn in /Users/ankushswarnakar/opt/anaconda3/envs/cs224u-final/lib/python3.8/site-packages (from sentence-transformers) (0.24.1)\n",
      "Requirement already satisfied: torchvision in /Users/ankushswarnakar/opt/anaconda3/envs/cs224u-final/lib/python3.8/site-packages (from sentence-transformers) (0.9.1)\n",
      "Requirement already satisfied: torch>=1.6.0 in /Users/ankushswarnakar/opt/anaconda3/envs/cs224u-final/lib/python3.8/site-packages (from sentence-transformers) (1.8.1)\n",
      "Requirement already satisfied: transformers<5.0.0,>=3.1.0 in /Users/ankushswarnakar/opt/anaconda3/envs/cs224u-final/lib/python3.8/site-packages (from sentence-transformers) (4.6.1)\n",
      "Requirement already satisfied: nltk in /Users/ankushswarnakar/opt/anaconda3/envs/cs224u-final/lib/python3.8/site-packages (from sentence-transformers) (3.6.1)\n",
      "Requirement already satisfied: scipy in /Users/ankushswarnakar/opt/anaconda3/envs/cs224u-final/lib/python3.8/site-packages (from sentence-transformers) (1.6.2)\n",
      "Requirement already satisfied: sentencepiece in /Users/ankushswarnakar/opt/anaconda3/envs/cs224u-final/lib/python3.8/site-packages (from sentence-transformers) (0.1.95)\n",
      "Requirement already satisfied: numpy in /Users/ankushswarnakar/opt/anaconda3/envs/cs224u-final/lib/python3.8/site-packages (from sentence-transformers) (1.20.1)\n",
      "Requirement already satisfied: tqdm in /Users/ankushswarnakar/opt/anaconda3/envs/cs224u-final/lib/python3.8/site-packages (from sentence-transformers) (4.59.0)\n",
      "Requirement already satisfied: typing_extensions in /Users/ankushswarnakar/opt/anaconda3/envs/cs224u-final/lib/python3.8/site-packages (from torch>=1.6.0->sentence-transformers) (3.7.4.3)\n",
      "Requirement already satisfied: requests in /Users/ankushswarnakar/opt/anaconda3/envs/cs224u-final/lib/python3.8/site-packages (from transformers<5.0.0,>=3.1.0->sentence-transformers) (2.25.1)\n",
      "Requirement already satisfied: filelock in /Users/ankushswarnakar/opt/anaconda3/envs/cs224u-final/lib/python3.8/site-packages (from transformers<5.0.0,>=3.1.0->sentence-transformers) (3.0.12)\n",
      "Requirement already satisfied: sacremoses in /Users/ankushswarnakar/opt/anaconda3/envs/cs224u-final/lib/python3.8/site-packages (from transformers<5.0.0,>=3.1.0->sentence-transformers) (0.0.45)\n",
      "Requirement already satisfied: huggingface-hub==0.0.8 in /Users/ankushswarnakar/opt/anaconda3/envs/cs224u-final/lib/python3.8/site-packages (from transformers<5.0.0,>=3.1.0->sentence-transformers) (0.0.8)\n",
      "Requirement already satisfied: packaging in /Users/ankushswarnakar/opt/anaconda3/envs/cs224u-final/lib/python3.8/site-packages (from transformers<5.0.0,>=3.1.0->sentence-transformers) (20.9)\n",
      "Requirement already satisfied: regex!=2019.12.17 in /Users/ankushswarnakar/opt/anaconda3/envs/cs224u-final/lib/python3.8/site-packages (from transformers<5.0.0,>=3.1.0->sentence-transformers) (2021.4.4)\n",
      "Requirement already satisfied: tokenizers<0.11,>=0.10.1 in /Users/ankushswarnakar/opt/anaconda3/envs/cs224u-final/lib/python3.8/site-packages (from transformers<5.0.0,>=3.1.0->sentence-transformers) (0.10.3)\n",
      "Requirement already satisfied: click in /Users/ankushswarnakar/opt/anaconda3/envs/cs224u-final/lib/python3.8/site-packages (from nltk->sentence-transformers) (7.1.2)\n",
      "Requirement already satisfied: joblib in /Users/ankushswarnakar/opt/anaconda3/envs/cs224u-final/lib/python3.8/site-packages (from nltk->sentence-transformers) (1.0.1)\n",
      "Requirement already satisfied: pyparsing>=2.0.2 in /Users/ankushswarnakar/opt/anaconda3/envs/cs224u-final/lib/python3.8/site-packages (from packaging->transformers<5.0.0,>=3.1.0->sentence-transformers) (2.4.7)\n",
      "Requirement already satisfied: chardet<5,>=3.0.2 in /Users/ankushswarnakar/opt/anaconda3/envs/cs224u-final/lib/python3.8/site-packages (from requests->transformers<5.0.0,>=3.1.0->sentence-transformers) (4.0.0)\n",
      "Requirement already satisfied: urllib3<1.27,>=1.21.1 in /Users/ankushswarnakar/opt/anaconda3/envs/cs224u-final/lib/python3.8/site-packages (from requests->transformers<5.0.0,>=3.1.0->sentence-transformers) (1.26.4)\n",
      "Requirement already satisfied: certifi>=2017.4.17 in /Users/ankushswarnakar/opt/anaconda3/envs/cs224u-final/lib/python3.8/site-packages (from requests->transformers<5.0.0,>=3.1.0->sentence-transformers) (2020.12.5)\n",
      "Requirement already satisfied: idna<3,>=2.5 in /Users/ankushswarnakar/opt/anaconda3/envs/cs224u-final/lib/python3.8/site-packages (from requests->transformers<5.0.0,>=3.1.0->sentence-transformers) (2.10)\n",
      "Requirement already satisfied: six in /Users/ankushswarnakar/opt/anaconda3/envs/cs224u-final/lib/python3.8/site-packages (from sacremoses->transformers<5.0.0,>=3.1.0->sentence-transformers) (1.15.0)\n",
      "Requirement already satisfied: threadpoolctl>=2.0.0 in /Users/ankushswarnakar/opt/anaconda3/envs/cs224u-final/lib/python3.8/site-packages (from scikit-learn->sentence-transformers) (2.1.0)\n",
      "Requirement already satisfied: pillow>=4.1.1 in /Users/ankushswarnakar/opt/anaconda3/envs/cs224u-final/lib/python3.8/site-packages (from torchvision->sentence-transformers) (8.2.0)\n"
     ]
    }
   ],
   "source": [
    "!pip install -U sentence-transformers\n"
   ]
  },
  {
   "cell_type": "code",
   "execution_count": 8,
   "id": "e7580d52",
   "metadata": {},
   "outputs": [
    {
     "name": "stderr",
     "output_type": "stream",
     "text": [
      "Some weights of the model checkpoint at /Users/ankushswarnakar/.cache/torch/sentence_transformers/sbert.net_models_bert-base-nli-mean-tokens/0_BERT were not used when initializing BertModel: ['classifier.weight', 'classifier.bias']\n",
      "- This IS expected if you are initializing BertModel from the checkpoint of a model trained on another task or with another architecture (e.g. initializing a BertForSequenceClassification model from a BertForPreTraining model).\n",
      "- This IS NOT expected if you are initializing BertModel from the checkpoint of a model that you expect to be exactly identical (initializing a BertForSequenceClassification model from a BertForSequenceClassification model).\n"
     ]
    }
   ],
   "source": [
    "from sentence_transformers import SentenceTransformer\n",
    "model = SentenceTransformer('bert-base-nli-mean-tokens')\n",
    "# sentences = ['This framework generates embeddings for each input sentence',\n",
    "#     'Sentences are passed as a list of string.', \n",
    "#     'The quick brown fox jumps over the lazy dog.']\n",
    "# sentence_embeddings = model.encode(sentences)"
   ]
  },
  {
   "cell_type": "code",
   "execution_count": 9,
   "id": "b557a2d2",
   "metadata": {},
   "outputs": [],
   "source": [
    "# print(sentence_embeddings)"
   ]
  },
  {
   "cell_type": "code",
   "execution_count": 10,
   "id": "a4648f2b",
   "metadata": {},
   "outputs": [],
   "source": [
    "article_sentences = []\n",
    "for i, row in labeled_articles.iterrows():\n",
    "    sentence = row['Words'].strip()\n",
    "    article_sentences.append(sentence)"
   ]
  },
  {
   "cell_type": "code",
   "execution_count": 11,
   "id": "f4994e24",
   "metadata": {},
   "outputs": [],
   "source": [
    "article_embeddings = model.encode(article_sentences)"
   ]
  },
  {
   "cell_type": "code",
   "execution_count": 12,
   "id": "3e0fbd64",
   "metadata": {},
   "outputs": [
    {
     "name": "stdout",
     "output_type": "stream",
     "text": [
      "[[-0.4670891   0.7597283  -0.34234613 ... -0.22197115  0.56094044\n",
      "  -0.40979108]\n",
      " [-0.6770887   0.2934068  -0.0038115  ... -0.3187059   0.6825635\n",
      "  -0.10460709]\n",
      " [-0.7556235   0.35623196 -0.06851063 ... -0.4651316   0.63037\n",
      "  -0.11942577]\n",
      " ...\n",
      " [-0.85087     0.5897822  -0.47568858 ... -0.21504414  0.5191416\n",
      "  -0.08759654]\n",
      " [-0.68870604  0.35268396 -0.77620286 ...  0.18397614  0.37774134\n",
      "  -0.10537001]\n",
      " [-0.7860669   0.59846216 -0.6715907  ...  0.15633461  0.42572087\n",
      "  -0.05762446]]\n"
     ]
    }
   ],
   "source": [
    "print(article_embeddings)"
   ]
  },
  {
   "cell_type": "code",
   "execution_count": 13,
   "id": "08ec4832",
   "metadata": {},
   "outputs": [
    {
     "name": "stdout",
     "output_type": "stream",
     "text": [
      "Requirement already satisfied: sklearn in /Users/ankushswarnakar/opt/anaconda3/envs/cs224u-final/lib/python3.8/site-packages (0.0)\r\n",
      "Requirement already satisfied: scikit-learn in /Users/ankushswarnakar/opt/anaconda3/envs/cs224u-final/lib/python3.8/site-packages (from sklearn) (0.24.1)\r\n",
      "Requirement already satisfied: scipy>=0.19.1 in /Users/ankushswarnakar/opt/anaconda3/envs/cs224u-final/lib/python3.8/site-packages (from scikit-learn->sklearn) (1.6.2)\r\n",
      "Requirement already satisfied: joblib>=0.11 in /Users/ankushswarnakar/opt/anaconda3/envs/cs224u-final/lib/python3.8/site-packages (from scikit-learn->sklearn) (1.0.1)\r\n",
      "Requirement already satisfied: threadpoolctl>=2.0.0 in /Users/ankushswarnakar/opt/anaconda3/envs/cs224u-final/lib/python3.8/site-packages (from scikit-learn->sklearn) (2.1.0)\r\n",
      "Requirement already satisfied: numpy>=1.13.3 in /Users/ankushswarnakar/opt/anaconda3/envs/cs224u-final/lib/python3.8/site-packages (from scikit-learn->sklearn) (1.20.1)\r\n"
     ]
    }
   ],
   "source": [
    "!pip3 install sklearn"
   ]
  },
  {
   "cell_type": "code",
   "execution_count": 14,
   "id": "f0d05f0b",
   "metadata": {},
   "outputs": [],
   "source": [
    "import sklearn\n",
    "from sklearn.cluster import KMeans"
   ]
  },
  {
   "cell_type": "code",
   "execution_count": 58,
   "id": "1df8b2a8",
   "metadata": {},
   "outputs": [],
   "source": [
    "kmeans = KMeans(n_clusters=5)"
   ]
  },
  {
   "cell_type": "code",
   "execution_count": 59,
   "id": "f3f02f73",
   "metadata": {},
   "outputs": [
    {
     "data": {
      "text/plain": [
       "KMeans(n_clusters=5)"
      ]
     },
     "execution_count": 59,
     "metadata": {},
     "output_type": "execute_result"
    }
   ],
   "source": [
    "kmeans.fit(article_embeddings)"
   ]
  },
  {
   "cell_type": "code",
   "execution_count": 100,
   "id": "e66a2e0a",
   "metadata": {},
   "outputs": [
    {
     "name": "stdout",
     "output_type": "stream",
     "text": [
      "5.688026655424921\n"
     ]
    }
   ],
   "source": [
    "t = kmeans.transform(article_embeddings)\n",
    "total_dist = 0\n",
    "for i in range(len(article_embeddings)):\n",
    "    clstr = article_clusters[i]\n",
    "    total_dist += t[i][clstr]\n",
    "avg_dist = total_dist / len(article_embeddings)\n",
    "print(avg_dist)"
   ]
  },
  {
   "cell_type": "code",
   "execution_count": 60,
   "id": "03a2aa1d",
   "metadata": {},
   "outputs": [],
   "source": [
    "article_clusters = kmeans.predict(article_embeddings)"
   ]
  },
  {
   "cell_type": "code",
   "execution_count": 61,
   "id": "a7008d9d",
   "metadata": {},
   "outputs": [
    {
     "name": "stdout",
     "output_type": "stream",
     "text": [
      "[1 3 3 0 1 1 3 1 3 3 1 1 1 1 3 0 1 1 3 3 2 3 1 3 1 1 3 3 0 3 3 3 1 0 3 4 0\n",
      " 3 3 1 1 1 0 3 3 1 3 3 1 1 1 3 1 0 1 1 3 1 1 1 1 3 3 3 3 3 1 3 0 1 3 3 3 1\n",
      " 1 0 2 3 3 1 3 1 1 0 3 3 3 3 3 3 0 1 3 1 3 3 3 3 1 3 3 3 3 3 3 0 3 0 1 0 3\n",
      " 3 3 3 0 1 3 0 1 1 1 3 3 2 3 3 1 0 0 0 1 0 3 1 1 0 1 0 0 1 2 1 3 3 3 3 3 4\n",
      " 1 1 3 3 3 3 3 3 1 3 1 0 3 1 3 2 3 3 4 0 1 3 3 1 1 0 3 1 0 3 3 0 3 1 3 1 3\n",
      " 0 3 1 1 3 3 1 0 3 2 3 0 3 0 1 1 3 1 3 3 3 0 1 1 3 1 1 3 3 0 1 0 3 0 1 3 0\n",
      " 3 1 3 1 3 3 1 3 0 3 1 1 3 3 1 1 1 3 2 3 1 0 1 1 3 1 1 3 3 3 1 1 0 1 0 3 0\n",
      " 3 1 1 1 3 3 2 3 1 3 1 1 1 1 3 3 1 1 1 0 0 1 1 3 0 1 1 3 1 1 3 0 1 4 3 3 1\n",
      " 3 1 0 3 1 4 3 3 3 3 0 3 3 1 3 3 3 4 1 0 1 0 0 4 0 0 4 0 0 0 0 2 0 4 3 0 2\n",
      " 2 0 1 2 3 0 1 2 0 0 2 4 3 2 0 2 4 0 2 2 0 2 2 2 3 2 0 2 2 1 1 2 0 0 0 2 2\n",
      " 2 4 2 0 2 1 1 1 1 1 0 2 2 0 0 1 2 3 3 2 2 2 1 2 2 0 0 2 2 1 2 3 3 1 2 2 0\n",
      " 0 0 3 3 2 1 0 2 0 2 2 1 3 3 2 0 2 2 3 3 2 2 2 0 3 0 3 3 3 1 3 1 2 0 1 3 1\n",
      " 1 0 1 4 2 1 3 3 2 4 1 3 3 4 3 2 2 0 0 1 0 2 2 1 1 2 4 1 1 1 3 2 1 1 3 2 4\n",
      " 4 4 3 4 1 0 0 0 0 4 1 4 4 4 4 3 4 1 2 4 1 1 1 1 2 1 1 1 1 1 1 1 4 1 1 4 4\n",
      " 1 4 0 4 4 4 1 4 4 4 4 4 4 4 4 2 4 4 1 3 4 3 4 4 4 4 4 3 4 4 4 4 4 4 4 4 2\n",
      " 3 4 4 1 4 4 2 2 4 4 4 4 4 4 4 4 4 4 1 4 2 4 4 2 1 4 4 2 0 3 4 2 4 0 1 1 2\n",
      " 0 1 4 3 3 0 4 2 0 2 1 3 4 4 3 0 4 1 3 0 4 2 3 1 1 1 2 0 0 2 2 3 0 2 3 2 2\n",
      " 0 0 3 2 0 4 4 3 0 2 2 4 2 2 0 1 4 2 0 0 2 4 3 0 0 3 2 0 1 1 1 4 0 2 0 0 3\n",
      " 0 1 0 0 1 0 2 2 3 2 0 0 0 2 3 0 0 0 0 0 0 0 2 2 2 2 2 0 0 1 2 0 0 0 1 0 0\n",
      " 3 2 0 2 2 1 1 2 1 3 0 2 1 4 0 1 1 2 2 3 1 3 3 0 2 0 4 0 2 0 0 2 0 0 0 0 0\n",
      " 2 0 2 3 2 2 2 0 2 3 0 2 0 0 0 2 0 2 2 0 2 2 2 2 0 0 0 0 0 4 1 2 0 2 2 2 0\n",
      " 0 2 2 2 2 0 1 2 2 0 2 2 2 2 2 0 0 2 2 0 0 2 3 0 2 0 2 0 2 0 0 2 2 0 0 2 1\n",
      " 2 2 0 0 2 4 2 0 2 2 2 4 2 2 2]\n"
     ]
    }
   ],
   "source": [
    "print(article_clusters)"
   ]
  },
  {
   "cell_type": "code",
   "execution_count": 62,
   "id": "36219c87",
   "metadata": {},
   "outputs": [],
   "source": [
    "groups = [[] for _ in range(5)]"
   ]
  },
  {
   "cell_type": "code",
   "execution_count": 20,
   "id": "43c7b852",
   "metadata": {},
   "outputs": [
    {
     "name": "stdout",
     "output_type": "stream",
     "text": [
      "[[], [], [], [], [], []]\n"
     ]
    }
   ],
   "source": [
    "print(groups)"
   ]
  },
  {
   "cell_type": "code",
   "execution_count": 63,
   "id": "877d1975",
   "metadata": {},
   "outputs": [],
   "source": [
    "n = len(article_embeddings)\n",
    "\n",
    "for i in range(n):\n",
    "    cluster = article_clusters[i]\n",
    "    groups[cluster].append(article_sentences[i])"
   ]
  },
  {
   "cell_type": "code",
   "execution_count": 64,
   "id": "3d900e47",
   "metadata": {},
   "outputs": [],
   "source": [
    "def ngrams(input, n):\n",
    "    input = input.split(' ')\n",
    "    output = []\n",
    "    for i in range(len(input)-n+1):\n",
    "        output.append(input[i:i+n])\n",
    "    return output"
   ]
  },
  {
   "cell_type": "code",
   "execution_count": 65,
   "id": "6a5233e9",
   "metadata": {},
   "outputs": [],
   "source": [
    "from collections import Counter\n",
    "from nltk.stem.snowball import SnowballStemmer"
   ]
  },
  {
   "cell_type": "code",
   "execution_count": 68,
   "id": "f470bcc2",
   "metadata": {},
   "outputs": [],
   "source": [
    "gram_size = 2\n",
    "stemmer = SnowballStemmer(\"english\")\n",
    "cluster_top_bigrams = [[] for _ in range(6)]\n",
    "for i in range(5):\n",
    "#     print(\"Cluster \" + str(i))\n",
    "    group_ngrams = []\n",
    "    for sentence in groups[i]:\n",
    "        gram_list = ngrams(sentence, gram_size)\n",
    "        for gram in gram_list:\n",
    "#             gram = [stemmer.stem(w) for w in gram]\n",
    "            group_ngrams.append(' '.join(gram))\n",
    "    c = Counter(group_ngrams)\n",
    "    for (s, ct) in c.most_common(50):\n",
    "        cluster_top_bigrams[i].append(s)\n",
    "#         print(s)\n",
    "# #     print(c.most_common(10))\n",
    "#     print(\"\\n\")"
   ]
  },
  {
   "cell_type": "code",
   "execution_count": 70,
   "id": "8940cf8a",
   "metadata": {},
   "outputs": [],
   "source": [
    "# filter out bigrams present in > 3 sets\n",
    "cluster_top_bigrams_set = [set(l) for l in cluster_top_bigrams]\n",
    "import itertools\n",
    "common_bigrams = set()\n",
    "for i, j, k in itertools.combinations(range(6), 3):\n",
    "    intersect = cluster_top_bigrams_set[i] & cluster_top_bigrams_set[j] & cluster_top_bigrams_set[k]\n",
    "    for bigram in intersect:\n",
    "        common_bigrams.add(bigram)"
   ]
  },
  {
   "cell_type": "code",
   "execution_count": 71,
   "id": "0284db9e",
   "metadata": {},
   "outputs": [
    {
     "name": "stdout",
     "output_type": "stream",
     "text": [
      "{'new low', 'last week', 'steel common', 'bank rate', 'stock prices', 'new lows', 'stock exchange', 'made new', 'new high', 'general motors', 'call money', 'new york', 'money renewal', 'interest rates', 'bond market', 'federal reserve', 'industrial average', 'market diary', 'wall street', 'york bank', 'stock market', 'york stock'}\n"
     ]
    }
   ],
   "source": [
    "print(common_bigrams)"
   ]
  },
  {
   "cell_type": "code",
   "execution_count": 73,
   "id": "f5b5d1ae",
   "metadata": {},
   "outputs": [
    {
     "name": "stdout",
     "output_type": "stream",
     "text": [
      "Cluster 0 top bigrams:\n",
      "heavy selling\n",
      "took place\n",
      "united states\n",
      "last hour\n",
      "york central\n",
      "bank america\n",
      "financial markets\n",
      "lower prices\n",
      "rate cut\n",
      "stop orders\n",
      "sales shares\n",
      "short covering\n",
      "market yesterday\n",
      "leading issues\n",
      "leading stocks\n",
      "\n",
      "\n",
      "Cluster 1 top bigrams:\n",
      "one day\n",
      "composite index\n",
      "new highs\n",
      "stock index\n",
      "gain since\n",
      "rose points\n",
      "percentage gain\n",
      "standard poor\n",
      "poor stock\n",
      "biggest gain\n",
      "points biggest\n",
      "blue chip\n",
      "bank america\n",
      "jumped points\n",
      "average rose\n",
      "\n",
      "\n",
      "Cluster 2 top bigrams:\n",
      "union pacific\n",
      "new highs\n",
      "united states\n",
      "york central\n",
      "short covering\n",
      "early dealings\n",
      "stocks made\n",
      "previous day\n",
      "good deal\n",
      "points rails\n",
      "short interest\n",
      "states steel\n",
      "london market\n",
      "industrial averages\n",
      "points utilities\n",
      "\n",
      "\n",
      "Cluster 3 top bigrams:\n",
      "bear market\n",
      "fell points\n",
      "standard poor\n",
      "stock index\n",
      "lowest level\n",
      "one day\n",
      "lowest close\n",
      "poor stock\n",
      "average fell\n",
      "close since\n",
      "composite index\n",
      "index fell\n",
      "blue chip\n",
      "level since\n",
      "dow industrials\n",
      "\n",
      "\n",
      "Cluster 4 top bigrams:\n",
      "previous closing\n",
      "stock averages\n",
      "diary stock\n",
      "closing average\n",
      "complete tabulation\n",
      "figured previous\n",
      "changes figured\n",
      "rate complete\n",
      "charts second\n",
      "industrials railroads\n",
      "railroads utilities\n",
      "abreast market\n",
      "cables new\n",
      "second last\n",
      "stock aver\n",
      "\n",
      "\n"
     ]
    }
   ],
   "source": [
    "for i in range(5):\n",
    "    print(\"Cluster \" + str(i) +\" top bigrams:\")\n",
    "    ct = 0\n",
    "    j = 0\n",
    "    while (ct < 15) and j < len(cluster_top_bigrams[i]):\n",
    "        if cluster_top_bigrams[i][j] not in common_bigrams:\n",
    "            print(cluster_top_bigrams[i][j])\n",
    "            ct += 1\n",
    "        j += 1\n",
    "    print(\"\\n\")\n",
    "        \n",
    "#     useful_bigrams = set(cluster_top_bigrams[i]).difference(common_bigrams)\n",
    "# #     print(useful_bigrams)\n",
    "#     print(list(useful_bigrams)[:15])"
   ]
  },
  {
   "cell_type": "code",
   "execution_count": 76,
   "id": "6e2fde0b",
   "metadata": {},
   "outputs": [],
   "source": [
    "most_common_words = set()\n",
    "words = []\n",
    "for group in groups:\n",
    "    for sentence in group:\n",
    "        sentence = sentence.strip().split()\n",
    "        for word in sentence: \n",
    "            words.append(word)\n",
    "c = Counter(words)\n",
    "most_common_words = set([s for (s, _) in c.most_common(30)])"
   ]
  },
  {
   "cell_type": "code",
   "execution_count": 77,
   "id": "a603fcac",
   "metadata": {},
   "outputs": [
    {
     "name": "stdout",
     "output_type": "stream",
     "text": [
      "{'one', 'bank', 'steel', 'close', 'last', 'york', 'stock', 'since', 'news', 'day', 'average', 'shares', 'decline', 'industrials', 'week', 'selling', 'issues', 'year', 'yesterday', 'time', 'low', 'industrial', 'market', 'stocks', 'trading', 'prices', 'markets', 'investors', 'new', 'points'}\n"
     ]
    }
   ],
   "source": [
    "print(most_common_words)"
   ]
  },
  {
   "cell_type": "code",
   "execution_count": 79,
   "id": "9a46da8e",
   "metadata": {},
   "outputs": [
    {
     "name": "stdout",
     "output_type": "stream",
     "text": [
      "Cluster 0 top bigrams:\n",
      "{'united states', 'southern pacific', 'stop orders', 'wall street', 'interest rates', 'recent weeks', 'took place', 'buying orders', 'general list', 'federal reserve', 'short covering', 'great britain', 'resistance levels', 'general motors', 'call money', 'rate cut'}\n",
      "Cluster 1 top bigrams:\n",
      "{'money renewal', 'blue chip', 'blue chips', 'wall street', 'profit taking', 'interest rates', 'composite index', 'point gain', 'first hour', 'percentage gain', 'federal reserve', 'standard poor', 'biggest gain', 'general motors', 'gain ever', 'call money'}\n",
      "Cluster 2 top bigrams:\n",
      "{'commission houses', 'took place', 'short covering', 'union pacific', 'increased earnings', 'first hour', 'general list', 'general motors', 'early afternoon', 'call money', 'money renewal', 'rails utilities', 'half hour', 'good deal', 'best levels', 'federal reserve', 'short interest', 'main body', 'united states', 'early dealings', 'wall street', 'profit taking'}\n",
      "Cluster 3 top bigrams:\n",
      "{'blue chip', 'general motors', 'allied chemical', 'lowest levels', 'wall street', 'point drop', 'index fell', 'interest rates', 'composite index', 'federal reserve', 'standard poor', 'vice president', 'fell lowest', 'lowest level'}\n",
      "Cluster 4 top bigrams:\n",
      "{'system ratio', 'utilities opening', 'previous closing', 'charts second', 'commercial paper', 'sugar raw', 'rate complete', 'sterling cables', 'call money', 'figured previous', 'money renewal', 'ages charts', 'ago changes', 'changes figured', 'cent bushel', 'federal reserve', 'complete tabulation', 'bushel cotton', 'rate reserve', 'wall street', 'railroads utilities'}\n"
     ]
    }
   ],
   "source": [
    "for i in range(5):\n",
    "    print(\"Cluster \" + str(i) +\" top bigrams:\")\n",
    "    useful_bigrams = set()\n",
    "    for bigram in cluster_top_bigrams[i]:\n",
    "        [w1, w2] = bigram.split()\n",
    "        if not (w1 in most_common_words or w2 in most_common_words):\n",
    "            useful_bigrams.add(bigram)\n",
    "    print(useful_bigrams)"
   ]
  },
  {
   "cell_type": "code",
   "execution_count": 169,
   "id": "3742d396",
   "metadata": {},
   "outputs": [],
   "source": [
    "# get human label means \n",
    "# 0 corporate\n",
    "# 1 Govspend\n",
    "# 2 Macro\n",
    "# 3 Monetary\n",
    "# 4 Sovmil\n",
    "\n",
    "lbls = ['Corporate', 'Govspend', 'Macro', 'Monetary', 'Sovmil']\n",
    "labels = []\n",
    "for _, row in labeled_articles.iterrows():\n",
    "    label = np.argmax([row[lbl] for lbl in lbls])\n",
    "    labels.append(label)"
   ]
  },
  {
   "cell_type": "code",
   "execution_count": 95,
   "id": "a5e29956",
   "metadata": {},
   "outputs": [],
   "source": [
    "h_groups = [[] for _ in range(5)]\n",
    "h_groups_embeddings = [[] for _ in range(5)]"
   ]
  },
  {
   "cell_type": "code",
   "execution_count": 98,
   "id": "84b799e9",
   "metadata": {},
   "outputs": [
    {
     "ename": "AttributeError",
     "evalue": "'numpy.ndarray' object has no attribute 'append'",
     "output_type": "error",
     "traceback": [
      "\u001b[0;31m---------------------------------------------------------------------------\u001b[0m",
      "\u001b[0;31mAttributeError\u001b[0m                            Traceback (most recent call last)",
      "\u001b[0;32m<ipython-input-98-e47f5623f813>\u001b[0m in \u001b[0;36m<module>\u001b[0;34m\u001b[0m\n\u001b[1;32m      4\u001b[0m     \u001b[0membedding\u001b[0m \u001b[0;34m=\u001b[0m \u001b[0marticle_embeddings\u001b[0m\u001b[0;34m[\u001b[0m\u001b[0mi\u001b[0m\u001b[0;34m]\u001b[0m\u001b[0;34m\u001b[0m\u001b[0;34m\u001b[0m\u001b[0m\n\u001b[1;32m      5\u001b[0m     \u001b[0mh_groups\u001b[0m\u001b[0;34m[\u001b[0m\u001b[0mlabel\u001b[0m\u001b[0;34m]\u001b[0m\u001b[0;34m.\u001b[0m\u001b[0mappend\u001b[0m\u001b[0;34m(\u001b[0m\u001b[0msentence\u001b[0m\u001b[0;34m)\u001b[0m\u001b[0;34m\u001b[0m\u001b[0;34m\u001b[0m\u001b[0m\n\u001b[0;32m----> 6\u001b[0;31m     \u001b[0mh_groups_embeddings\u001b[0m\u001b[0;34m[\u001b[0m\u001b[0mlabel\u001b[0m\u001b[0;34m]\u001b[0m\u001b[0;34m.\u001b[0m\u001b[0mappend\u001b[0m\u001b[0;34m(\u001b[0m\u001b[0membedding\u001b[0m\u001b[0;34m)\u001b[0m\u001b[0;34m\u001b[0m\u001b[0;34m\u001b[0m\u001b[0m\n\u001b[0m",
      "\u001b[0;31mAttributeError\u001b[0m: 'numpy.ndarray' object has no attribute 'append'"
     ]
    }
   ],
   "source": [
    "for i in range(len(article_sentences)):\n",
    "    label = labels[i]\n",
    "    sentence = article_sentences[i]\n",
    "    embedding = article_embeddings[i]\n",
    "    h_groups[label].append(sentence)\n",
    "    h_groups_embeddings[label].append(embedding)"
   ]
  },
  {
   "cell_type": "code",
   "execution_count": 122,
   "id": "b582e52e",
   "metadata": {},
   "outputs": [
    {
     "name": "stdout",
     "output_type": "stream",
     "text": [
      "(768,)\n"
     ]
    }
   ],
   "source": [
    "print(np.mean(h_groups_embeddings[0], axis=0).shape)\n",
    "\n",
    "h_group_means = [np.mean(h_groups_embeddings[i], axis=0) for i in range(5)]\n",
    "# h_groups_embeddings = np.array([np.array(h_group_embeddings) for h_group_embeddings in h_groups_embeddings])\n",
    "# # h_groups_embeddings = np.array(h_groups_embeddings)\n",
    "# print(h_groups_embeddings.shape)\n",
    "\n",
    "# print(h_group_means)"
   ]
  },
  {
   "cell_type": "code",
   "execution_count": 112,
   "id": "51056d7f",
   "metadata": {},
   "outputs": [
    {
     "name": "stdout",
     "output_type": "stream",
     "text": [
      "(768,)\n"
     ]
    }
   ],
   "source": [
    "print(h_group_means[1].shape)"
   ]
  },
  {
   "cell_type": "code",
   "execution_count": 123,
   "id": "1d4dbb6e",
   "metadata": {},
   "outputs": [
    {
     "name": "stdout",
     "output_type": "stream",
     "text": [
      "6.386592327469939\n"
     ]
    }
   ],
   "source": [
    "total_dist2 = 0\n",
    "for i in range(5):\n",
    "    for embedding in h_groups_embeddings[i]:\n",
    "        total_dist2 += np.linalg.norm(embedding - h_group_means[i])\n",
    "avg_dist2 = total_dist2 / len(article_embeddings)\n",
    "print(avg_dist2)\n",
    "        "
   ]
  },
  {
   "cell_type": "code",
   "execution_count": 124,
   "id": "0b4588ac",
   "metadata": {},
   "outputs": [],
   "source": [
    "kmeans_centers = kmeans.cluster_centers_"
   ]
  },
  {
   "cell_type": "code",
   "execution_count": 126,
   "id": "9f7f7adb",
   "metadata": {},
   "outputs": [
    {
     "name": "stdout",
     "output_type": "stream",
     "text": [
      "Human label Corporate is closest to cluster 0\n",
      "Human label Govspend is closest to cluster 4\n",
      "Human label Macro is closest to cluster 0\n",
      "Human label Monetary is closest to cluster 1\n",
      "Human label Sovmil is closest to cluster 0\n"
     ]
    }
   ],
   "source": [
    "for i in range(5):\n",
    "    human_label = lbls[i]\n",
    "    dists = []\n",
    "    for j in range(5):\n",
    "        dists.append(np.linalg.norm(h_group_means[i] - kmeans_centers[j]))\n",
    "#     print(dists)\n",
    "    nearest = np.argmin(dists)\n",
    "    print(\"Human label \" + human_label + \" is closest to cluster \" + str(nearest))"
   ]
  },
  {
   "cell_type": "code",
   "execution_count": 128,
   "id": "cc6c86ce",
   "metadata": {},
   "outputs": [],
   "source": [
    "n = len(article_embeddings)\n",
    "d = len(article_embeddings[0])\n",
    "X = np.zeros((n, d))\n",
    "for i in range(n): X[i] = article_embeddings[i]\n"
   ]
  },
  {
   "cell_type": "code",
   "execution_count": 131,
   "id": "35890c16",
   "metadata": {},
   "outputs": [
    {
     "name": "stdout",
     "output_type": "stream",
     "text": [
      "(829, 2)\n"
     ]
    }
   ],
   "source": [
    "from sklearn.decomposition import PCA\n",
    "pca = PCA(n_components=2)\n",
    "reduced_X = pca.fit_transform(X)\n"
   ]
  },
  {
   "cell_type": "code",
   "execution_count": 157,
   "id": "1aa7205a",
   "metadata": {},
   "outputs": [],
   "source": [
    "import matplotlib.pyplot as plt\n",
    "%matplotlib inline\n",
    "import seaborn as sns\n",
    "from matplotlib import cm"
   ]
  },
  {
   "cell_type": "code",
   "execution_count": 171,
   "id": "6bacdce4",
   "metadata": {},
   "outputs": [
    {
     "data": {
      "image/png": "[encoded data removed]",
      "text/plain": [
       "<Figure size 432x288 with 1 Axes>"
      ]
     },
     "metadata": {
      "needs_background": "light"
     },
     "output_type": "display_data"
    }
   ],
   "source": [
    "# fig, ax = plt.subplots()\n",
    "\n",
    "# scatter = ax.scatter(reduced_X[:,0], reduced_X[:, 1], c=labels, marker='.')\n",
    "# ax.legend(lbls)\n",
    "# # legend1 = ax.legend(lbls,\n",
    "# #                     loc=\"lower left\", title=\"Classes\")\n",
    "# # ax.add_artist(legend1)\n",
    "# plt.title('Clustering by Manual Labeling')\n",
    "# plt.xlabel('First Principal Component')\n",
    "# plt.ylabel('Second Principal Component')\n",
    "# ax.legend()\n",
    "\n",
    "ax = sns.scatterplot(x=reduced_X[:,0], y=reduced_X[:, 1], hue=labels, palette=cm.get_cmap('hsv'))\n",
    "handles, _  =  ax.get_legend_handles_labels()\n",
    "ax.legend(handles, lbls, loc='lower right')\n",
    "plt.title('Clustering by Manual Labeling')\n",
    "plt.xlabel('First Principal Component')\n",
    "plt.ylabel('Second Principal Component')\n",
    "plt.savefig('manual_clustering.png')"
   ]
  },
  {
   "cell_type": "code",
   "execution_count": 172,
   "id": "fe9decdf",
   "metadata": {},
   "outputs": [
    {
     "data": {
      "image/png": "[encoded data removed]",
      "text/plain": [
       "<Figure size 432x288 with 1 Axes>"
      ]
     },
     "metadata": {
      "needs_background": "light"
     },
     "output_type": "display_data"
    }
   ],
   "source": [
    "ax = sns.scatterplot(x=reduced_X[:,0], y=reduced_X[:, 1], hue=article_clusters, palette=cm.get_cmap('hsv'))\n",
    "handles, ls  =  ax.get_legend_handles_labels()\n",
    "ax.legend(handles, ls, loc='lower right')\n",
    "plt.title('Clustering by K-Means')\n",
    "plt.xlabel('First Principal Component')\n",
    "plt.ylabel('Second Principal Component')\n",
    "plt.savefig('kmeans_clustering.png')"
   ]
  },
  {
   "cell_type": "code",
   "execution_count": null,
   "id": "b7e7dbf8",
   "metadata": {},
   "outputs": [],
   "source": []
  }
 ],
 "metadata": {
  "kernelspec": {
   "display_name": "Python 3",
   "language": "python",
   "name": "python3"
  },
  "language_info": {
   "codemirror_mode": {
    "name": "ipython",
    "version": 3
   },
   "file_extension": ".py",
   "mimetype": "text/x-python",
   "name": "python",
   "nbconvert_exporter": "python",
   "pygments_lexer": "ipython3",
   "version": "3.8.8"
  }
 },
 "nbformat": 4,
 "nbformat_minor": 5
}
